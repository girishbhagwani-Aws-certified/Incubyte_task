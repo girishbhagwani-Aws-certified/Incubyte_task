{
  "nbformat": 4,
  "nbformat_minor": 0,
  "metadata": {
    "colab": {
      "provenance": []
    },
    "kernelspec": {
      "name": "python3",
      "display_name": "Python 3"
    },
    "language_info": {
      "name": "python"
    }
  },
  "cells": [
    {
      "cell_type": "code",
      "execution_count": null,
      "metadata": {
        "id": "o3aruCYX0ge9"
      },
      "outputs": [],
      "source": [
        "import pandas as pd\n",
        "from sqlalchemy import create_engine, Table, Column, Integer, String, Date, MetaData\n",
        "\n",
        "engine = create_engine('sqlite:///hospital_data.db', echo=True)\n",
        "metadata = MetaData()\n",
        "\n",
        "def create_staging_table():\n",
        "    staging_table = Table('Staging_Customers', metadata,\n",
        "        Column('Customer_Name', String(255)),\n",
        "        Column('Customer_Id', String(18), primary_key=True),\n",
        "        Column('Open_Date', Date),\n",
        "        Column('Last_Consulted_Date', Date),\n",
        "        Column('Vaccination_Id', String(5)),\n",
        "        Column('Dr_Name', String(255)),\n",
        "        Column('State', String(5)),\n",
        "        Column('Country', String(5)),\n",
        "        Column('DOB', Date),\n",
        "        Column('Is_Active', String(1)),\n",
        "    )\n",
        "    metadata.create_all(engine)\n",
        "    print(\"Staging Table Created\")\n",
        "\n",
        "def create_country_table(country_name):\n",
        "    country_table = Table(f\"Table_{country_name}\", metadata,\n",
        "        Column('Customer_Name', String(255)),\n",
        "        Column('Customer_Id', String(18), primary_key=True),\n",
        "        Column('Open_Date', Date),\n",
        "        Column('Last_Consulted_Date', Date),\n",
        "        Column('Vaccination_Id', String(5)),\n",
        "        Column('Dr_Name', String(255)),\n",
        "        Column('State', String(5)),\n",
        "        Column('Country', String(5)),\n",
        "        Column('DOB', Date),\n",
        "        Column('Is_Active', String(1)),\n",
        "        Column('Age', Integer),\n",
        "        Column('Days_Since_Last_Consulted', Integer),\n",
        "    )\n",
        "    metadata.create_all(engine)\n",
        "    print(f\"Table_{country_name} Created\")\n",
        "\n",
        "def insert_into_country_table(country_name, df_country):\n",
        "    table = Table(f\"Table_{country_name}\", metadata, autoload_with=engine)\n",
        "    with engine.connect() as connection:\n",
        "        for index, row in df_country.iterrows():\n",
        "            insert_query = table.insert().values(\n",
        "                Customer_Name=row['Customer_Name'],\n",
        "                Customer_Id=row['Customer_Id'],\n",
        "                Open_Date=row['Open_Date'],\n",
        "                Last_Consulted_Date=row['Last_Consulted_Date'],\n",
        "                Vaccination_Id=row['Vaccination_Id'],\n",
        "                Dr_Name=row['Dr_Name'],\n",
        "                State=row['State'],\n",
        "                Country=row['Country'],\n",
        "                DOB=row['DOB'],\n",
        "                Is_Active=row['Is_Active'],\n",
        "                Age=row['Age'],\n",
        "                Days_Since_Last_Consulted=row['Days_Since_Last_Consulted']\n",
        "            )\n",
        "            connection.execute(insert_query)\n",
        "    print(f\"Data Inserted into Table_{country_name}\")\n",
        "\n",
        "def read_and_process_csv(file_path, country_name):\n",
        "    df = pd.read_csv(file_path)\n",
        "    df[\"DOB\"] = pd.to_datetime(df[\"DOB\"])\n",
        "    df[\"Last_Consulted_Date\"] = pd.to_datetime(df[\"Last_Consulted_Date\"])\n",
        "    df[\"Open_Date\"] = pd.to_datetime(df[\"Open_Date\"])\n",
        "\n",
        "    current_date = pd.Timestamp.now()\n",
        "    df[\"Age\"] = current_date.year - df[\"DOB\"].dt.year\n",
        "    df[\"Days_Since_Last_Consulted\"] = (current_date - df[\"Last_Consulted_Date\"]).dt.days\n",
        "    df = df[df[\"Days_Since_Last_Consulted\"] > 30]\n",
        "\n",
        "    insert_into_country_table(country_name, df)\n",
        "\n",
        "create_staging_table()\n",
        "create_country_table('USA')\n",
        "create_country_table('IND')\n",
        "create_country_table('AUS')\n",
        "\n",
        "read_and_process_csv('USA.csv', 'USA')\n",
        "read_and_process_csv('IND.csv', 'IND')\n",
        "read_and_process_csv('AUS.csv', 'AUS')\n"
      ]
    },
    {
      "cell_type": "code",
      "source": [],
      "metadata": {
        "id": "l9ES5IYRY9rz"
      },
      "execution_count": null,
      "outputs": []
    }
  ]
}